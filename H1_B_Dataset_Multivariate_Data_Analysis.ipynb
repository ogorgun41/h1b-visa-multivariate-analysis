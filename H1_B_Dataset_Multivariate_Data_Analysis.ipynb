{
  "cells": [
    {
      "cell_type": "code",
      "execution_count": null,
      "metadata": {
        "id": "-vPKxIXKe98j"
      },
      "outputs": [],
      "source": [
        "import pandas as pd\n",
        "import numpy as np\n",
        "import os\n",
        "import zipfile\n",
        "from google.colab import drive"
      ]
    },
    {
      "cell_type": "code",
      "execution_count": null,
      "metadata": {
        "colab": {
          "base_uri": "https://localhost:8080/"
        },
        "id": "vQITw2pxfmF_",
        "outputId": "3519502b-d5cf-450f-830c-86b805689d9c"
      },
      "outputs": [
        {
          "output_type": "stream",
          "name": "stderr",
          "text": [
            "/tmp/ipython-input-2166808175.py:1: DtypeWarning: Columns (4,7,14,16,29,40,44,50,51,52,55) have mixed types. Specify dtype option on import or set low_memory=False.\n",
            "  df_2024=pd.read_csv('/content/FY2024.csv')\n"
          ]
        },
        {
          "output_type": "stream",
          "name": "stdout",
          "text": [
            "<class 'pandas.core.frame.DataFrame'>\n",
            "RangeIndex: 350103 entries, 0 to 350102\n",
            "Data columns (total 56 columns):\n",
            " #   Column                    Non-Null Count   Dtype \n",
            "---  ------                    --------------   ----- \n",
            " 0   bcn                       350103 non-null  object\n",
            " 1   country_of_birth          350103 non-null  object\n",
            " 2   country_of_nationality    350103 non-null  object\n",
            " 3   ben_date_of_birth         350103 non-null  object\n",
            " 4   ben_year_of_birth         350103 non-null  object\n",
            " 5   gender                    350103 non-null  object\n",
            " 6   employer_name             350102 non-null  object\n",
            " 7   FEIN                      350103 non-null  object\n",
            " 8   mail_addr                 350103 non-null  object\n",
            " 9   city                      350103 non-null  object\n",
            " 10  state                     350103 non-null  object\n",
            " 11  zip                       350103 non-null  object\n",
            " 12  agent_first_name          350051 non-null  object\n",
            " 13  agent_last_name           349940 non-null  object\n",
            " 14  lottery_year              350103 non-null  object\n",
            " 15  status_type               350103 non-null  object\n",
            " 16  ben_multi_reg_ind         350103 non-null  object\n",
            " 17  RECEIPT_NUMBER            68833 non-null   object\n",
            " 18  rec_date                  68833 non-null   object\n",
            " 19  FIRST_DECISION            68418 non-null   object\n",
            " 20  first_decision_date       68418 non-null   object\n",
            " 21  i129_employer_name        68833 non-null   object\n",
            " 22  PET_STREET                68833 non-null   object\n",
            " 23  PET_CITY                  68833 non-null   object\n",
            " 24  PET_STATE                 68833 non-null   object\n",
            " 25  PET_ZIP                   68832 non-null   object\n",
            " 26  REQUESTED_CLASS           68830 non-null   object\n",
            " 27  BASIS_FOR_CLASSIFICATION  68830 non-null   object\n",
            " 28  REQUESTED_ACTION          68833 non-null   object\n",
            " 29  NUMBER_OF_BENEFICIARIES   67123 non-null   object\n",
            " 30  BEN_SEX                   68833 non-null   object\n",
            " 31  BEN_COUNTRY_OF_BIRTH      68833 non-null   object\n",
            " 32  BEN_CURRENT_CLASS         52688 non-null   object\n",
            " 33  JOB_TITLE                 50327 non-null   object\n",
            " 34  DOL_ETA_CASE_NUMBER       68482 non-null   object\n",
            " 35  WORKSITE_STREET           68824 non-null   object\n",
            " 36  WORKSITE_CITY             68765 non-null   object\n",
            " 37  WORKSITE_STATE            68770 non-null   object\n",
            " 38  WORKSITE_ZIP              68769 non-null   object\n",
            " 39  FULL_TIME_IND             42498 non-null   object\n",
            " 40  WAGE_AMT                  68676 non-null   object\n",
            " 41  WAGE_UNIT                 68686 non-null   object\n",
            " 42  valid_from                67564 non-null   object\n",
            " 43  valid_to                  67564 non-null   object\n",
            " 44  NUM_OF_EMP_IN_US          66903 non-null   object\n",
            " 45  S1Q1A                     68819 non-null   object\n",
            " 46  S1Q1B                     50671 non-null   object\n",
            " 47  BEN_EDUCATION_CODE        46660 non-null   object\n",
            " 48  ED_LEVEL_DEFINITION       46660 non-null   object\n",
            " 49  BEN_PFIELD_OF_STUDY       68750 non-null   object\n",
            " 50  BEN_COMP_PAID             67292 non-null   object\n",
            " 51  DOT_CODE                  68581 non-null   object\n",
            " 52  NAICS_CODE                68739 non-null   object\n",
            " 53  S3Q1                      68831 non-null   object\n",
            " 54  S4Q1                      68833 non-null   object\n",
            " 55  T_U_VAWA_FLAG             19 non-null      object\n",
            "dtypes: object(56)\n",
            "memory usage: 149.6+ MB\n"
          ]
        }
      ],
      "source": [
        "df_2024=pd.read_csv('/content/FY2024.csv')\n",
        "df_2024.info()"
      ]
    },
    {
      "cell_type": "code",
      "execution_count": null,
      "metadata": {
        "id": "DUwvncwggmYx"
      },
      "outputs": [],
      "source": [
        "value = \"(b)(3) (b)(6) (b)(7)(c)\"\n",
        "columns_to_check = ['BEN_COMP_PAID', 'WAGE_AMT']\n",
        "\n",
        "for col in columns_to_check:\n",
        "    df_2024 = df_2024[~df_2024[col].astype(str).str.contains(value, na=False, regex=False)]\n",
        "\n",
        "df_2024['BEN_COMP_PAID'] = (\n",
        "    df_2024['BEN_COMP_PAID']\n",
        "    .astype(str)\n",
        "    .str.replace(',', '', regex=False)\n",
        "    .str.replace('$', '', regex=False)\n",
        "    .str.strip()\n",
        "    .replace('', pd.NA)\n",
        ")\n",
        "df_2024['BEN_COMP_PAID'] = pd.to_numeric(df_2024['BEN_COMP_PAID'], errors='coerce')\n",
        "\n",
        "df_2024['WAGE_AMT'] = (\n",
        "    df_2024['WAGE_AMT']\n",
        "    .astype(str)\n",
        "    .str.replace(',', '', regex=False)\n",
        "    .str.replace('$', '', regex=False)\n",
        "    .str.strip()\n",
        "    .replace('', pd.NA)\n",
        ")\n",
        "df_2024['WAGE_AMT'] = pd.to_numeric(df_2024['WAGE_AMT'], errors='coerce')\n",
        "\n"
      ]
    },
    {
      "cell_type": "code",
      "execution_count": null,
      "metadata": {
        "colab": {
          "base_uri": "https://localhost:8080/"
        },
        "id": "OFQdGNS-hB4l",
        "outputId": "7cb90d47-90fd-4493-a167-8f909fdf3916"
      },
      "outputs": [
        {
          "output_type": "stream",
          "name": "stderr",
          "text": [
            "/tmp/ipython-input-221981889.py:1: DtypeWarning: Columns (4,7,14,16,29,40,44,50,51,52,55) have mixed types. Specify dtype option on import or set low_memory=False.\n",
            "  df_2023=pd.read_csv('/content/FY2023.csv')\n"
          ]
        },
        {
          "output_type": "stream",
          "name": "stdout",
          "text": [
            "<class 'pandas.core.frame.DataFrame'>\n",
            "RangeIndex: 474421 entries, 0 to 474420\n",
            "Data columns (total 56 columns):\n",
            " #   Column                    Non-Null Count   Dtype \n",
            "---  ------                    --------------   ----- \n",
            " 0   bcn                       474421 non-null  object\n",
            " 1   country_of_birth          474421 non-null  object\n",
            " 2   country_of_nationality    474421 non-null  object\n",
            " 3   ben_date_of_birth         474421 non-null  object\n",
            " 4   ben_year_of_birth         474421 non-null  object\n",
            " 5   gender                    474421 non-null  object\n",
            " 6   employer_name             474421 non-null  object\n",
            " 7   FEIN                      474421 non-null  object\n",
            " 8   mail_addr                 474421 non-null  object\n",
            " 9   city                      474421 non-null  object\n",
            " 10  state                     474421 non-null  object\n",
            " 11  zip                       474421 non-null  object\n",
            " 12  agent_first_name          474158 non-null  object\n",
            " 13  agent_last_name           473423 non-null  object\n",
            " 14  lottery_year              474421 non-null  object\n",
            " 15  status_type               474421 non-null  object\n",
            " 16  ben_multi_reg_ind         474421 non-null  object\n",
            " 17  RECEIPT_NUMBER            94291 non-null   object\n",
            " 18  rec_date                  94291 non-null   object\n",
            " 19  FIRST_DECISION            94123 non-null   object\n",
            " 20  first_decision_date       94123 non-null   object\n",
            " 21  i129_employer_name        94288 non-null   object\n",
            " 22  PET_STREET                94290 non-null   object\n",
            " 23  PET_CITY                  94291 non-null   object\n",
            " 24  PET_STATE                 94291 non-null   object\n",
            " 25  PET_ZIP                   94289 non-null   object\n",
            " 26  REQUESTED_CLASS           94285 non-null   object\n",
            " 27  BASIS_FOR_CLASSIFICATION  94285 non-null   object\n",
            " 28  REQUESTED_ACTION          94291 non-null   object\n",
            " 29  NUMBER_OF_BENEFICIARIES   92179 non-null   object\n",
            " 30  BEN_SEX                   94291 non-null   object\n",
            " 31  BEN_COUNTRY_OF_BIRTH      94291 non-null   object\n",
            " 32  BEN_CURRENT_CLASS         68994 non-null   object\n",
            " 33  JOB_TITLE                 70768 non-null   object\n",
            " 34  DOL_ETA_CASE_NUMBER       91869 non-null   object\n",
            " 35  WORKSITE_STREET           94271 non-null   object\n",
            " 36  WORKSITE_CITY             94182 non-null   object\n",
            " 37  WORKSITE_STATE            94186 non-null   object\n",
            " 38  WORKSITE_ZIP              94193 non-null   object\n",
            " 39  FULL_TIME_IND             49287 non-null   object\n",
            " 40  WAGE_AMT                  94052 non-null   object\n",
            " 41  WAGE_UNIT                 94065 non-null   object\n",
            " 42  valid_from                91012 non-null   object\n",
            " 43  valid_to                  91012 non-null   object\n",
            " 44  NUM_OF_EMP_IN_US          92568 non-null   object\n",
            " 45  S1Q1A                     93591 non-null   object\n",
            " 46  S1Q1B                     60294 non-null   object\n",
            " 47  BEN_EDUCATION_CODE        58620 non-null   object\n",
            " 48  ED_LEVEL_DEFINITION       58620 non-null   object\n",
            " 49  BEN_PFIELD_OF_STUDY       94160 non-null   object\n",
            " 50  BEN_COMP_PAID             91537 non-null   object\n",
            " 51  DOT_CODE                  92622 non-null   object\n",
            " 52  NAICS_CODE                94072 non-null   object\n",
            " 53  S3Q1                      94287 non-null   object\n",
            " 54  S4Q1                      94290 non-null   object\n",
            " 55  T_U_VAWA_FLAG             37 non-null      object\n",
            "dtypes: object(56)\n",
            "memory usage: 202.7+ MB\n"
          ]
        }
      ],
      "source": [
        "df_2023=pd.read_csv('/content/FY2023.csv')\n",
        "df_2023.info()"
      ]
    },
    {
      "cell_type": "code",
      "execution_count": null,
      "metadata": {
        "id": "V2lMdcXkhgQN"
      },
      "outputs": [],
      "source": [
        "value = \"(b)(3) (b)(6) (b)(7)(c)\"\n",
        "columns_to_check = ['BEN_COMP_PAID', 'WAGE_AMT']\n",
        "\n",
        "for col in columns_to_check:\n",
        "    df_2023 = df_2023[~df_2023[col].astype(str).str.contains(value, na=False, regex=False)]\n",
        "\n",
        "# Cleaning BEN_COMP_PAID column\n",
        "df_2023['BEN_COMP_PAID'] = (\n",
        "    df_2023['BEN_COMP_PAID']\n",
        "    .astype(str)\n",
        "    .str.replace(',', '', regex=False)\n",
        "    .str.replace('$', '', regex=False)\n",
        "    .str.strip()\n",
        "    .replace('', pd.NA)\n",
        ")\n",
        "df_2023['BEN_COMP_PAID'] = pd.to_numeric(df_2023['BEN_COMP_PAID'], errors='coerce')\n",
        "\n",
        "# Cleaning WAGE_AMT column\n",
        "df_2023['WAGE_AMT'] = (\n",
        "    df_2023['WAGE_AMT']\n",
        "    .astype(str)\n",
        "    .str.replace(',', '', regex=False)\n",
        "    .str.replace('$', '', regex=False)\n",
        "    .str.strip()\n",
        "    .replace('', pd.NA)\n",
        ")\n",
        "df_2023['WAGE_AMT'] = pd.to_numeric(df_2023['WAGE_AMT'], errors='coerce')\n"
      ]
    },
    {
      "cell_type": "code",
      "execution_count": null,
      "metadata": {
        "colab": {
          "base_uri": "https://localhost:8080/"
        },
        "id": "6AptcxKmisc-",
        "outputId": "42a55d78-61ad-4a94-ec14-ea71b0b4fe53"
      },
      "outputs": [
        {
          "output_type": "stream",
          "name": "stderr",
          "text": [
            "/tmp/ipython-input-2696276870.py:1: DtypeWarning: Columns (4,7,14,16,25,29,38,39,40,41,44,46,50,51,52,55) have mixed types. Specify dtype option on import or set low_memory=False.\n",
            "  df_2022=pd.read_csv('/content/FY2022.csv')\n"
          ]
        },
        {
          "output_type": "stream",
          "name": "stdout",
          "text": [
            "<class 'pandas.core.frame.DataFrame'>\n",
            "RangeIndex: 301447 entries, 0 to 301446\n",
            "Data columns (total 56 columns):\n",
            " #   Column                    Non-Null Count   Dtype \n",
            "---  ------                    --------------   ----- \n",
            " 0   bcn                       301447 non-null  object\n",
            " 1   country_of_birth          301447 non-null  object\n",
            " 2   country_of_nationality    301447 non-null  object\n",
            " 3   ben_date_of_birth         301447 non-null  object\n",
            " 4   ben_year_of_birth         301447 non-null  object\n",
            " 5   gender                    301447 non-null  object\n",
            " 6   employer_name             301447 non-null  object\n",
            " 7   FEIN                      301447 non-null  object\n",
            " 8   mail_addr                 301447 non-null  object\n",
            " 9   city                      301447 non-null  object\n",
            " 10  state                     301447 non-null  object\n",
            " 11  zip                       301447 non-null  object\n",
            " 12  agent_first_name          301276 non-null  object\n",
            " 13  agent_last_name           301086 non-null  object\n",
            " 14  lottery_year              301447 non-null  object\n",
            " 15  status_type               301447 non-null  object\n",
            " 16  ben_multi_reg_ind         301447 non-null  object\n",
            " 17  RECEIPT_NUMBER            89925 non-null   object\n",
            " 18  rec_date                  89925 non-null   object\n",
            " 19  FIRST_DECISION            89893 non-null   object\n",
            " 20  first_decision_date       89893 non-null   object\n",
            " 21  i129_employer_name        89925 non-null   object\n",
            " 22  PET_STREET                89924 non-null   object\n",
            " 23  PET_CITY                  89925 non-null   object\n",
            " 24  PET_STATE                 89923 non-null   object\n",
            " 25  PET_ZIP                   89923 non-null   object\n",
            " 26  REQUESTED_CLASS           89925 non-null   object\n",
            " 27  BASIS_FOR_CLASSIFICATION  89925 non-null   object\n",
            " 28  REQUESTED_ACTION          89925 non-null   object\n",
            " 29  NUMBER_OF_BENEFICIARIES   89925 non-null   object\n",
            " 30  BEN_SEX                   89887 non-null   object\n",
            " 31  BEN_COUNTRY_OF_BIRTH      89812 non-null   object\n",
            " 32  BEN_CURRENT_CLASS         73659 non-null   object\n",
            " 33  JOB_TITLE                 53612 non-null   object\n",
            " 34  DOL_ETA_CASE_NUMBER       89563 non-null   object\n",
            " 35  WORKSITE_STREET           89925 non-null   object\n",
            " 36  WORKSITE_CITY             89925 non-null   object\n",
            " 37  WORKSITE_STATE            89925 non-null   object\n",
            " 38  WORKSITE_ZIP              89925 non-null   object\n",
            " 39  FULL_TIME_IND             28 non-null      object\n",
            " 40  WAGE_AMT                  28 non-null      object\n",
            " 41  WAGE_UNIT                 28 non-null      object\n",
            " 42  valid_from                87965 non-null   object\n",
            " 43  valid_to                  87965 non-null   object\n",
            " 44  NUM_OF_EMP_IN_US          89921 non-null   object\n",
            " 45  S1Q1A                     89921 non-null   object\n",
            " 46  S1Q1B                     28 non-null      object\n",
            " 47  BEN_EDUCATION_CODE        89915 non-null   object\n",
            " 48  ED_LEVEL_DEFINITION       89915 non-null   object\n",
            " 49  BEN_PFIELD_OF_STUDY       89911 non-null   object\n",
            " 50  BEN_COMP_PAID             89919 non-null   object\n",
            " 51  DOT_CODE                  87938 non-null   object\n",
            " 52  NAICS_CODE                89913 non-null   object\n",
            " 53  S3Q1                      89922 non-null   object\n",
            " 54  S4Q1                      89887 non-null   object\n",
            " 55  T_U_VAWA_FLAG             28 non-null      object\n",
            "dtypes: object(56)\n",
            "memory usage: 128.8+ MB\n"
          ]
        }
      ],
      "source": [
        "df_2022=pd.read_csv('/content/FY2022.csv')\n",
        "df_2022.info()"
      ]
    },
    {
      "cell_type": "code",
      "execution_count": null,
      "metadata": {
        "id": "NWFOf5c3jPE-"
      },
      "outputs": [],
      "source": [
        "value = \"(b)(3) (b)(6) (b)(7)(c)\"\n",
        "columns_to_check = ['BEN_COMP_PAID']\n",
        "\n",
        "for col in columns_to_check:\n",
        "    df_2022 = df_2022[~df_2022[col].astype(str).str.contains(value, na=False, regex=False)]\n",
        "\n",
        "# Cleaning and converting BEN_COMP_PAID feature\n",
        "df_2022['BEN_COMP_PAID'] = (\n",
        "    df_2022['BEN_COMP_PAID']\n",
        "    .astype(str)\n",
        "    .str.replace(',', '', regex=False)\n",
        "    .str.replace('$', '', regex=False)\n",
        "    .str.strip()\n",
        "    .replace('', pd.NA)\n",
        ")\n",
        "df_2022['BEN_COMP_PAID'] = df_2022['BEN_COMP_PAID'].astype(float)\n"
      ]
    },
    {
      "cell_type": "code",
      "execution_count": null,
      "metadata": {
        "colab": {
          "base_uri": "https://localhost:8080/"
        },
        "id": "u7rVNQGCjd7e",
        "outputId": "5ff6cf4b-23f3-4daa-a533-e22c82c9dbfa"
      },
      "outputs": [
        {
          "output_type": "stream",
          "name": "stderr",
          "text": [
            "/tmp/ipython-input-995538913.py:1: DtypeWarning: Columns (4,7,14,16,25,29,38,39,40,41,44,46,50,51,52,55) have mixed types. Specify dtype option on import or set low_memory=False.\n",
            "  df_2021=pd.read_csv('/content/FY2021.csv')\n"
          ]
        },
        {
          "output_type": "stream",
          "name": "stdout",
          "text": [
            "<class 'pandas.core.frame.DataFrame'>\n",
            "RangeIndex: 269424 entries, 0 to 269423\n",
            "Data columns (total 56 columns):\n",
            " #   Column                    Non-Null Count   Dtype \n",
            "---  ------                    --------------   ----- \n",
            " 0   bcn                       269424 non-null  object\n",
            " 1   country_of_birth          269424 non-null  object\n",
            " 2   country_of_nationality    269424 non-null  object\n",
            " 3   ben_date_of_birth         269424 non-null  object\n",
            " 4   ben_year_of_birth         269424 non-null  object\n",
            " 5   gender                    269424 non-null  object\n",
            " 6   employer_name             269424 non-null  object\n",
            " 7   FEIN                      269424 non-null  object\n",
            " 8   mail_addr                 269424 non-null  object\n",
            " 9   city                      269424 non-null  object\n",
            " 10  state                     269424 non-null  object\n",
            " 11  zip                       269424 non-null  object\n",
            " 12  agent_first_name          269412 non-null  object\n",
            " 13  agent_last_name           269422 non-null  object\n",
            " 14  lottery_year              269424 non-null  object\n",
            " 15  status_type               269424 non-null  object\n",
            " 16  ben_multi_reg_ind         269424 non-null  object\n",
            " 17  RECEIPT_NUMBER            100031 non-null  object\n",
            " 18  rec_date                  100031 non-null  object\n",
            " 19  FIRST_DECISION            99912 non-null   object\n",
            " 20  first_decision_date       99912 non-null   object\n",
            " 21  i129_employer_name        100031 non-null  object\n",
            " 22  PET_STREET                100028 non-null  object\n",
            " 23  PET_CITY                  100031 non-null  object\n",
            " 24  PET_STATE                 100031 non-null  object\n",
            " 25  PET_ZIP                   100031 non-null  object\n",
            " 26  REQUESTED_CLASS           100031 non-null  object\n",
            " 27  BASIS_FOR_CLASSIFICATION  100031 non-null  object\n",
            " 28  REQUESTED_ACTION          100031 non-null  object\n",
            " 29  NUMBER_OF_BENEFICIARIES   100031 non-null  object\n",
            " 30  BEN_SEX                   100009 non-null  object\n",
            " 31  BEN_COUNTRY_OF_BIRTH      99937 non-null   object\n",
            " 32  BEN_CURRENT_CLASS         86026 non-null   object\n",
            " 33  JOB_TITLE                 56028 non-null   object\n",
            " 34  DOL_ETA_CASE_NUMBER       99657 non-null   object\n",
            " 35  WORKSITE_STREET           100029 non-null  object\n",
            " 36  WORKSITE_CITY             100031 non-null  object\n",
            " 37  WORKSITE_STATE            100031 non-null  object\n",
            " 38  WORKSITE_ZIP              100031 non-null  object\n",
            " 39  FULL_TIME_IND             47 non-null      object\n",
            " 40  WAGE_AMT                  47 non-null      object\n",
            " 41  WAGE_UNIT                 47 non-null      object\n",
            " 42  valid_from                96332 non-null   object\n",
            " 43  valid_to                  96332 non-null   object\n",
            " 44  NUM_OF_EMP_IN_US          100022 non-null  object\n",
            " 45  S1Q1A                     100026 non-null  object\n",
            " 46  S1Q1B                     47 non-null      object\n",
            " 47  BEN_EDUCATION_CODE        100021 non-null  object\n",
            " 48  ED_LEVEL_DEFINITION       100021 non-null  object\n",
            " 49  BEN_PFIELD_OF_STUDY       100016 non-null  object\n",
            " 50  BEN_COMP_PAID             100028 non-null  object\n",
            " 51  DOT_CODE                  96328 non-null   object\n",
            " 52  NAICS_CODE                100019 non-null  object\n",
            " 53  S3Q1                      100006 non-null  object\n",
            " 54  S4Q1                      96212 non-null   object\n",
            " 55  T_U_VAWA_FLAG             47 non-null      object\n",
            "dtypes: object(56)\n",
            "memory usage: 115.1+ MB\n"
          ]
        }
      ],
      "source": [
        "df_2021=pd.read_csv('/content/FY2021.csv')\n",
        "df_2021.info()"
      ]
    },
    {
      "cell_type": "code",
      "execution_count": null,
      "metadata": {
        "colab": {
          "base_uri": "https://localhost:8080/"
        },
        "id": "lw1DBZoIkIud",
        "outputId": "663e6b41-9ccf-49ae-a04c-234f40a49693"
      },
      "outputs": [
        {
          "output_type": "execute_result",
          "data": {
            "text/plain": [
              "np.int64(99981)"
            ]
          },
          "metadata": {},
          "execution_count": 11
        }
      ],
      "source": [
        "value = \"(b)(3) (b)(6) (b)(7)(c)\"\n",
        "df_2021 = df_2021[~df_2021.apply(lambda row: row.astype(str).str.contains(value, na=False, regex=False)).any(axis=1)]\n",
        "\n",
        "df_2021['BEN_COMP_PAID'] = (\n",
        "    df_2021['BEN_COMP_PAID']\n",
        "    .astype(str)\n",
        "    .str.replace(',', '', regex=False)\n",
        "    .str.replace('$', '', regex=False)\n",
        "    .str.strip()\n",
        "    .replace('', pd.NA)\n",
        ")\n",
        "df_2021['BEN_COMP_PAID'] = df_2021['BEN_COMP_PAID'].astype(float)\n",
        "\n",
        "df_2021['BEN_COMP_PAID'].notnull().sum()\n"
      ]
    },
    {
      "cell_type": "code",
      "execution_count": null,
      "metadata": {
        "colab": {
          "base_uri": "https://localhost:8080/"
        },
        "id": "B7hVBMMckYiU",
        "outputId": "f9c572f2-ada4-4442-a352-0fb844930e60"
      },
      "outputs": [
        {
          "output_type": "stream",
          "name": "stderr",
          "text": [
            "/tmp/ipython-input-2624998976.py:1: FutureWarning: The behavior of DataFrame concatenation with empty or all-NA entries is deprecated. In a future version, this will no longer exclude empty or all-NA columns when determining the result dtypes. To retain the old behavior, exclude the relevant entries before the concat operation.\n",
            "  combined_df = pd.concat([df_2021, df_2022, df_2023, df_2024], ignore_index=True)\n"
          ]
        },
        {
          "output_type": "stream",
          "name": "stdout",
          "text": [
            "<class 'pandas.core.frame.DataFrame'>\n",
            "RangeIndex: 1395264 entries, 0 to 1395263\n",
            "Data columns (total 56 columns):\n",
            " #   Column                    Non-Null Count    Dtype  \n",
            "---  ------                    --------------    -----  \n",
            " 0   bcn                       1395264 non-null  object \n",
            " 1   country_of_birth          1395264 non-null  object \n",
            " 2   country_of_nationality    1395264 non-null  object \n",
            " 3   ben_date_of_birth         1395264 non-null  object \n",
            " 4   ben_year_of_birth         1395264 non-null  object \n",
            " 5   gender                    1395264 non-null  object \n",
            " 6   employer_name             1395263 non-null  object \n",
            " 7   FEIN                      1395264 non-null  object \n",
            " 8   mail_addr                 1395264 non-null  object \n",
            " 9   city                      1395264 non-null  object \n",
            " 10  state                     1395264 non-null  object \n",
            " 11  zip                       1395264 non-null  object \n",
            " 12  agent_first_name          1394766 non-null  object \n",
            " 13  agent_last_name           1393740 non-null  object \n",
            " 14  lottery_year              1395264 non-null  object \n",
            " 15  status_type               1395264 non-null  object \n",
            " 16  ben_multi_reg_ind         1395264 non-null  object \n",
            " 17  RECEIPT_NUMBER            352949 non-null   object \n",
            " 18  rec_date                  352949 non-null   object \n",
            " 19  FIRST_DECISION            352215 non-null   object \n",
            " 20  first_decision_date       352215 non-null   object \n",
            " 21  i129_employer_name        352946 non-null   object \n",
            " 22  PET_STREET                352944 non-null   object \n",
            " 23  PET_CITY                  352949 non-null   object \n",
            " 24  PET_STATE                 352947 non-null   object \n",
            " 25  PET_ZIP                   352944 non-null   object \n",
            " 26  REQUESTED_CLASS           352940 non-null   object \n",
            " 27  BASIS_FOR_CLASSIFICATION  352940 non-null   object \n",
            " 28  REQUESTED_ACTION          352949 non-null   object \n",
            " 29  NUMBER_OF_BENEFICIARIES   349127 non-null   object \n",
            " 30  BEN_SEX                   352889 non-null   object \n",
            " 31  BEN_COUNTRY_OF_BIRTH      352742 non-null   object \n",
            " 32  BEN_CURRENT_CLASS         281236 non-null   object \n",
            " 33  JOB_TITLE                 230604 non-null   object \n",
            " 34  DOL_ETA_CASE_NUMBER       349440 non-null   object \n",
            " 35  WORKSITE_STREET           352918 non-null   object \n",
            " 36  WORKSITE_CITY             352772 non-null   object \n",
            " 37  WORKSITE_STATE            352781 non-null   object \n",
            " 38  WORKSITE_ZIP              352787 non-null   object \n",
            " 39  FULL_TIME_IND             91729 non-null    object \n",
            " 40  WAGE_AMT                  162672 non-null   float64\n",
            " 41  WAGE_UNIT                 162695 non-null   object \n",
            " 42  valid_from                342742 non-null   object \n",
            " 43  valid_to                  342742 non-null   object \n",
            " 44  NUM_OF_EMP_IN_US          349283 non-null   object \n",
            " 45  S1Q1A                     352226 non-null   object \n",
            " 46  S1Q1B                     110909 non-null   object \n",
            " 47  BEN_EDUCATION_CODE        295085 non-null   object \n",
            " 48  ED_LEVEL_DEFINITION       295085 non-null   object \n",
            " 49  BEN_PFIELD_OF_STUDY       352706 non-null   object \n",
            " 50  BEN_COMP_PAID             348645 non-null   float64\n",
            " 51  DOT_CODE                  345338 non-null   object \n",
            " 52  NAICS_CODE                352612 non-null   object \n",
            " 53  S3Q1                      352915 non-null   object \n",
            " 54  S4Q1                      349091 non-null   object \n",
            " 55  T_U_VAWA_FLAG             0 non-null        object \n",
            "dtypes: float64(2), object(54)\n",
            "memory usage: 596.1+ MB\n"
          ]
        }
      ],
      "source": [
        "combined_df = pd.concat([df_2021, df_2022, df_2023, df_2024], ignore_index=True)\n",
        "combined_df.info()\n"
      ]
    },
    {
      "cell_type": "code",
      "execution_count": null,
      "metadata": {
        "colab": {
          "base_uri": "https://localhost:8080/",
          "height": 427
        },
        "id": "NZpkmbg_lJNl",
        "outputId": "0f1f554e-3247-43b5-8f53-ef0728a8bc94"
      },
      "outputs": [
        {
          "output_type": "stream",
          "name": "stdout",
          "text": [
            "Accuracy: 0.9762\n"
          ]
        },
        {
          "output_type": "display_data",
          "data": {
            "text/plain": [
              "<Figure size 600x400 with 2 Axes>"
            ],
            "image/png": "[encoded data removed]"
          },
          "metadata": {}
        }
      ],
      "source": [
        "import matplotlib.pyplot as plt\n",
        "import seaborn as sns\n",
        "df_preds = df_2024\n",
        "\n",
        "# Dropping unnecessary columns\n",
        "cols = [\n",
        "    'bcn', 'country_of_nationality', 'ben_date_of_birth', 'FEIN', 'mail_addr', 'city', 'zip',\n",
        "    'agent_first_name', 'agent_last_name', 'status_type', 'ben_multi_reg_ind', 'RECEIPT_NUMBER',\n",
        "    'i129_employer_name', 'PET_STREET', 'PET_STATE', 'PET_CITY', 'PET_ZIP', 'BEN_SEX',\n",
        "    'BEN_COUNTRY_OF_BIRTH', 'DOL_ETA_CASE_NUMBER', 'WORKSITE_STREET', 'WORKSITE_STATE',\n",
        "    'WORKSITE_CITY', 'WORKSITE_ZIP', 'FULL_TIME_IND', 'valid_from', 'valid_to',\n",
        "    'BEN_EDUCATION_CODE', 'DOT_CODE', 'NAICS_CODE', 'T_U_VAWA_FLAG', 'NUMBER_OF_BENEFICIARIES', 'S1Q1B'\n",
        "]\n",
        "df_preds = df_preds.drop(cols, axis=1)\n",
        "\n",
        "# Dropping rows with any missing values\n",
        "df_preds = df_preds.dropna().reset_index(drop=True)\n",
        "\n",
        "# Converting dates and calculating features\n",
        "df_preds['rec_date'] = pd.to_datetime(df_preds['rec_date'], format='%m/%d/%Y', errors='coerce')\n",
        "df_preds['ben_year_of_birth'] = pd.to_numeric(df_preds['ben_year_of_birth'], errors='coerce')\n",
        "df_preds['age'] = df_preds['rec_date'].dt.year - df_preds['ben_year_of_birth']\n",
        "df_preds['first_decision_date'] = pd.to_datetime(df_preds['first_decision_date'], format='%m/%d/%Y', errors='coerce')\n",
        "df_preds['process_duration_days'] = (df_preds['first_decision_date'] - df_preds['rec_date']).dt.days\n",
        "\n",
        "# Dropping intermediate fields\n",
        "df_preds = df_preds.drop(columns=['ben_year_of_birth', 'rec_date', 'first_decision_date'])\n",
        "\n",
        "# Fixing numeric fields\n",
        "df_preds['NUM_OF_EMP_IN_US'] = df_2024['NUM_OF_EMP_IN_US'].astype(float)\n",
        "\n",
        "# Dropping more columns to focus on wage calculation prediction phase\n",
        "df_preds = df_preds.drop(columns=['employer_name', 'JOB_TITLE', 'BEN_PFIELD_OF_STUDY', 'S1Q1A'], axis=1)\n",
        "\n",
        "# Converting wage to float type\n",
        "df_preds['WAGE_AMT'] = df_preds['WAGE_AMT'].astype(float)\n",
        "\n",
        "# One-hot encoding on the categorical columns (except WAGE_UNIT)\n",
        "from sklearn.preprocessing import LabelEncoder\n",
        "cat_columns = df_preds.select_dtypes(include='object').columns.to_list()\n",
        "one_hot_cols = [col for col in cat_columns if col != 'WAGE_UNIT']\n",
        "df_preds = pd.get_dummies(df_preds, columns=one_hot_cols, drop_first=True, dtype=int)\n",
        "\n",
        "# Label encoding on the WAGE_UNIT with safety addition\n",
        "if 'WAGE_UNIT' in df_preds.columns and df_preds['WAGE_UNIT'].nunique() > 1:\n",
        "    le = LabelEncoder()\n",
        "    df_preds['WAGE_UNIT'] = le.fit_transform(df_preds['WAGE_UNIT'])\n",
        "else:\n",
        "    raise ValueError(\"WAGE_UNIT is missing or has only one class — can't train a classifier.\")\n",
        "\n",
        "# Scaling numeric features except the target class\n",
        "from sklearn.preprocessing import StandardScaler\n",
        "cols_to_exclude = ['WAGE_UNIT']\n",
        "cols_to_scale = [col for col in df_preds.columns if col not in cols_to_exclude]\n",
        "scaler = StandardScaler()\n",
        "df_preds[cols_to_scale] = scaler.fit_transform(df_preds[cols_to_scale])\n",
        "\n",
        "# Dropping optional noisy columns\n",
        "cols = [\n",
        "    'REQUESTED_ACTION_B', 'S3Q1_E', 'country_of_birth_CHN', 'country_of_birth_CHE',\n",
        "    'state_MS', 'BEN_CURRENT_CLASS_E1', 'BASIS_FOR_CLASSIFICATION_F',\n",
        "    \"ED_LEVEL_DEFINITION_MASTER'S DEGREE\", 'WAGE_AMT'\n",
        "]\n",
        "df_preds = df_preds.drop(cols, axis=1, errors='ignore').reset_index(drop=True)\n",
        "\n",
        "# Model training\n",
        "from sklearn.model_selection import train_test_split\n",
        "from sklearn.ensemble import RandomForestClassifier\n",
        "from sklearn.metrics import classification_report\n",
        "\n",
        "X = df_preds.drop(columns=['WAGE_UNIT'])\n",
        "y = df_preds['WAGE_UNIT']\n",
        "\n",
        "X_train, X_test, y_train, y_test = train_test_split(X, y, test_size=0.2, random_state=6)\n",
        "\n",
        "model = RandomForestClassifier(random_state=42)\n",
        "model.fit(X_train, y_train)\n",
        "y_pred = model.predict(X_test)\n",
        "\n",
        "# Evaluation\n",
        "from sklearn.metrics import accuracy_score, confusion_matrix, roc_auc_score, roc_curve\n",
        "\n",
        "# Accuracy\n",
        "accuracy = accuracy_score(y_test, y_pred)\n",
        "print(f\"Accuracy: {accuracy:.4f}\")\n",
        "\n",
        "# Confusion Matrix\n",
        "cm = confusion_matrix(y_test, y_pred)\n",
        "plt.figure(figsize=(6, 4))\n",
        "sns.heatmap(cm, annot=True, fmt=\"d\", cmap=\"Blues\", xticklabels=le.classes_, yticklabels=le.classes_)\n",
        "plt.xlabel(\"Predicted\")\n",
        "plt.ylabel(\"Actual\")\n",
        "plt.title(\"Confusion Matrix\")\n",
        "plt.show()\n",
        "\n"
      ]
    },
    {
      "cell_type": "code",
      "execution_count": null,
      "metadata": {
        "colab": {
          "base_uri": "https://localhost:8080/"
        },
        "id": "gRS5QObqrXv9",
        "outputId": "7e68379f-dbc2-4390-8037-e470c14b47be"
      },
      "outputs": [
        {
          "output_type": "stream",
          "name": "stdout",
          "text": [
            "<class 'pandas.core.frame.DataFrame'>\n",
            "RangeIndex: 127229 entries, 0 to 127228\n",
            "Data columns (total 29 columns):\n",
            " #   Column                    Non-Null Count   Dtype         \n",
            "---  ------                    --------------   -----         \n",
            " 0   country_of_birth          127229 non-null  object        \n",
            " 1   ben_year_of_birth         127229 non-null  int64         \n",
            " 2   gender                    127229 non-null  object        \n",
            " 3   employer_name             127229 non-null  object        \n",
            " 4   city                      127229 non-null  object        \n",
            " 5   state                     127229 non-null  object        \n",
            " 6   zip                       127229 non-null  object        \n",
            " 7   lottery_year              127229 non-null  object        \n",
            " 8   status_type               127229 non-null  object        \n",
            " 9   rec_date                  127229 non-null  datetime64[ns]\n",
            " 10  FIRST_DECISION            127229 non-null  object        \n",
            " 11  first_decision_date       127229 non-null  datetime64[ns]\n",
            " 12  REQUESTED_CLASS           127229 non-null  object        \n",
            " 13  BASIS_FOR_CLASSIFICATION  127229 non-null  object        \n",
            " 14  REQUESTED_ACTION          127229 non-null  object        \n",
            " 15  NUMBER_OF_BENEFICIARIES   127229 non-null  object        \n",
            " 16  BEN_CURRENT_CLASS         127229 non-null  object        \n",
            " 17  JOB_TITLE                 127229 non-null  object        \n",
            " 18  WORKSITE_CITY             127229 non-null  object        \n",
            " 19  WORKSITE_STATE            127229 non-null  object        \n",
            " 20  NUM_OF_EMP_IN_US          127229 non-null  float64       \n",
            " 21  BEN_EDUCATION_CODE        127229 non-null  object        \n",
            " 22  ED_LEVEL_DEFINITION       127229 non-null  object        \n",
            " 23  BEN_PFIELD_OF_STUDY       127229 non-null  object        \n",
            " 24  BEN_COMP_PAID             127229 non-null  float64       \n",
            " 25  S3Q1                      127229 non-null  object        \n",
            " 26  S4Q1                      127229 non-null  object        \n",
            " 27  age                       127229 non-null  float64       \n",
            " 28  process_duration_days     127229 non-null  float64       \n",
            "dtypes: datetime64[ns](2), float64(4), int64(1), object(22)\n",
            "memory usage: 28.1+ MB\n"
          ]
        }
      ],
      "source": [
        "cols = [\n",
        "    'bcn', 'country_of_nationality', 'ben_date_of_birth', 'FEIN', 'mail_addr',\n",
        "    'agent_first_name', 'agent_last_name', 'ben_multi_reg_ind', 'RECEIPT_NUMBER',\n",
        "    'i129_employer_name', 'PET_STREET', 'PET_STATE', 'PET_CITY', 'PET_ZIP',\n",
        "    'BEN_SEX', 'BEN_COUNTRY_OF_BIRTH', 'DOL_ETA_CASE_NUMBER', 'WORKSITE_STREET',\n",
        "    'WORKSITE_ZIP', 'FULL_TIME_IND', 'valid_from', 'valid_to', 'DOT_CODE',\n",
        "    'NAICS_CODE', 'T_U_VAWA_FLAG', 'WAGE_UNIT', 'WAGE_AMT', 'S1Q1B', 'S1Q1A'\n",
        "]\n",
        "\n",
        "# Dropping non-essential columns\n",
        "combined_df = combined_df.drop(cols, axis=1, errors='ignore')\n",
        "\n",
        "# Converting and calculating features\n",
        "combined_df['rec_date'] = pd.to_datetime(combined_df['rec_date'], format='%m/%d/%Y', errors='coerce')\n",
        "combined_df['first_decision_date'] = pd.to_datetime(combined_df['first_decision_date'], format='%m/%d/%Y', errors='coerce')\n",
        "combined_df['ben_year_of_birth'] = pd.to_numeric(combined_df['ben_year_of_birth'], errors='coerce')\n",
        "combined_df['NUM_OF_EMP_IN_US'] = pd.to_numeric(combined_df['NUM_OF_EMP_IN_US'], errors='coerce')\n",
        "\n",
        "# Feature engineering\n",
        "combined_df['age'] = combined_df['rec_date'].dt.year - combined_df['ben_year_of_birth']\n",
        "combined_df['process_duration_days'] = (combined_df['first_decision_date'] - combined_df['rec_date']).dt.days\n",
        "\n",
        "# Drop rows that still have NaNs (after all the above cleaning implementations)\n",
        "combined_df = combined_df.dropna().reset_index(drop=True)\n",
        "\n",
        "# Checking combined data frame\n",
        "combined_df.info()\n"
      ]
    },
    {
      "cell_type": "code",
      "execution_count": null,
      "metadata": {
        "id": "h9HscyKfLCuw"
      },
      "outputs": [],
      "source": [
        "new_combined_df=combined_df\n",
        "cat_columns=new_combined_df.select_dtypes(include='object').columns.to_list()\n",
        "one_hot_cols=[col for col in cat_columns if col != 'WAGE_UNIT']\n",
        "combined_enc_df=pd.get_dummies(new_combined_df, columns=one_hot_cols, drop_first=True, dtype=int)\n",
        "diff_cols = list(set(combined_enc_df.columns) - set(X.columns))\n",
        "combined_enc_df=combined_enc_df.drop(diff_cols,axis=1)\n",
        "from sklearn.preprocessing import StandardScaler\n",
        "scaler=StandardScaler()\n",
        "combined_scaled=scaler.fit_transform(combined_enc_df)\n"
      ]
    },
    {
      "cell_type": "code",
      "execution_count": null,
      "metadata": {
        "colab": {
          "base_uri": "https://localhost:8080/"
        },
        "id": "Aee9X2-IOmr5",
        "outputId": "dda675ab-67fa-49de-ac17-6bd61dd6b2da"
      },
      "outputs": [
        {
          "output_type": "stream",
          "name": "stdout",
          "text": [
            "Missing columns: set()\n"
          ]
        }
      ],
      "source": [
        "# Identifying missing columns\n",
        "missing_cols = set(X.columns) - set(combined_enc_df.columns)\n",
        "print(\"Missing columns:\", missing_cols)\n",
        "\n",
        "# Adding the missing columns with default value of 0\n",
        "for col in missing_cols:\n",
        "    combined_enc_df[col] = 0\n",
        "combined_enc_df = combined_enc_df.loc[:, ~combined_enc_df.columns.duplicated()]\n",
        "\n",
        "# Reordering the columns to match the training set\n",
        "combined_enc_df = combined_enc_df.reindex(columns=X.columns)\n",
        "\n",
        "# Exceting the prediction\n",
        "predicted_wage_unit = model.predict(combined_enc_df)\n",
        "\n",
        "# Decode labels just in case\n",
        "predicted_labels = le.inverse_transform(predicted_wage_unit)\n",
        "\n",
        "# Adding predictions as new column to the unencoded dataframe\n",
        "combined_df['WAGE_UNIT_PREDICTED'] = predicted_labels\n"
      ]
    },
    {
      "cell_type": "code",
      "execution_count": null,
      "metadata": {
        "colab": {
          "base_uri": "https://localhost:8080/",
          "height": 147
        },
        "id": "fWSWq4p6O5UB",
        "outputId": "945077b9-af61-4c6d-992e-d75a395d5732"
      },
      "outputs": [
        {
          "output_type": "execute_result",
          "data": {
            "text/plain": [
              "WAGE_UNIT_PREDICTED\n",
              "YEAR    127229\n",
              "Name: count, dtype: int64"
            ],
            "text/html": [
              "<div>\n",
              "<style scoped>\n",
              "    .dataframe tbody tr th:only-of-type {\n",
              "        vertical-align: middle;\n",
              "    }\n",
              "\n",
              "    .dataframe tbody tr th {\n",
              "        vertical-align: top;\n",
              "    }\n",
              "\n",
              "    .dataframe thead th {\n",
              "        text-align: right;\n",
              "    }\n",
              "</style>\n",
              "<table border=\"1\" class=\"dataframe\">\n",
              "  <thead>\n",
              "    <tr style=\"text-align: right;\">\n",
              "      <th></th>\n",
              "      <th>count</th>\n",
              "    </tr>\n",
              "    <tr>\n",
              "      <th>WAGE_UNIT_PREDICTED</th>\n",
              "      <th></th>\n",
              "    </tr>\n",
              "  </thead>\n",
              "  <tbody>\n",
              "    <tr>\n",
              "      <th>YEAR</th>\n",
              "      <td>127229</td>\n",
              "    </tr>\n",
              "  </tbody>\n",
              "</table>\n",
              "</div><br><label><b>dtype:</b> int64</label>"
            ]
          },
          "metadata": {},
          "execution_count": 17
        }
      ],
      "source": [
        "combined_df['WAGE_UNIT_PREDICTED'].value_counts()"
      ]
    },
    {
      "cell_type": "code",
      "execution_count": null,
      "metadata": {
        "id": "KLTHsQ2-O-Uy"
      },
      "outputs": [],
      "source": [
        "combined_df['ANNUAL_WAGES'] = combined_df.apply(lambda row: row['BEN_COMP_PAID'] * 2080 if row['WAGE_UNIT_PREDICTED'] == 'HOUR' else row['BEN_COMP_PAID'],axis=1)\n"
      ]
    },
    {
      "cell_type": "code",
      "execution_count": null,
      "metadata": {
        "colab": {
          "base_uri": "https://localhost:8080/",
          "height": 458
        },
        "id": "hr8lYrq3PAaH",
        "outputId": "c74fdd7c-4e35-4a82-d69d-227f90fde3ad"
      },
      "outputs": [
        {
          "output_type": "execute_result",
          "data": {
            "text/plain": [
              "0         125000.0\n",
              "1         100000.0\n",
              "2          85842.0\n",
              "3         112000.0\n",
              "4          57122.0\n",
              "            ...   \n",
              "127224    161700.0\n",
              "127225     43638.0\n",
              "127226     86800.0\n",
              "127227    100000.0\n",
              "127228    335000.0\n",
              "Name: ANNUAL_WAGES, Length: 127229, dtype: float64"
            ],
            "text/html": [
              "<div>\n",
              "<style scoped>\n",
              "    .dataframe tbody tr th:only-of-type {\n",
              "        vertical-align: middle;\n",
              "    }\n",
              "\n",
              "    .dataframe tbody tr th {\n",
              "        vertical-align: top;\n",
              "    }\n",
              "\n",
              "    .dataframe thead th {\n",
              "        text-align: right;\n",
              "    }\n",
              "</style>\n",
              "<table border=\"1\" class=\"dataframe\">\n",
              "  <thead>\n",
              "    <tr style=\"text-align: right;\">\n",
              "      <th></th>\n",
              "      <th>ANNUAL_WAGES</th>\n",
              "    </tr>\n",
              "  </thead>\n",
              "  <tbody>\n",
              "    <tr>\n",
              "      <th>0</th>\n",
              "      <td>125000.0</td>\n",
              "    </tr>\n",
              "    <tr>\n",
              "      <th>1</th>\n",
              "      <td>100000.0</td>\n",
              "    </tr>\n",
              "    <tr>\n",
              "      <th>2</th>\n",
              "      <td>85842.0</td>\n",
              "    </tr>\n",
              "    <tr>\n",
              "      <th>3</th>\n",
              "      <td>112000.0</td>\n",
              "    </tr>\n",
              "    <tr>\n",
              "      <th>4</th>\n",
              "      <td>57122.0</td>\n",
              "    </tr>\n",
              "    <tr>\n",
              "      <th>...</th>\n",
              "      <td>...</td>\n",
              "    </tr>\n",
              "    <tr>\n",
              "      <th>127224</th>\n",
              "      <td>161700.0</td>\n",
              "    </tr>\n",
              "    <tr>\n",
              "      <th>127225</th>\n",
              "      <td>43638.0</td>\n",
              "    </tr>\n",
              "    <tr>\n",
              "      <th>127226</th>\n",
              "      <td>86800.0</td>\n",
              "    </tr>\n",
              "    <tr>\n",
              "      <th>127227</th>\n",
              "      <td>100000.0</td>\n",
              "    </tr>\n",
              "    <tr>\n",
              "      <th>127228</th>\n",
              "      <td>335000.0</td>\n",
              "    </tr>\n",
              "  </tbody>\n",
              "</table>\n",
              "<p>127229 rows × 1 columns</p>\n",
              "</div><br><label><b>dtype:</b> float64</label>"
            ]
          },
          "metadata": {},
          "execution_count": 19
        }
      ],
      "source": [
        "combined_df['ANNUAL_WAGES']"
      ]
    },
    {
      "cell_type": "code",
      "execution_count": null,
      "metadata": {
        "id": "ZZJJuxQLPFJ4"
      },
      "outputs": [],
      "source": [
        "# Converting to numeric type and cleaning\n",
        "combined_df['ANNUAL_WAGES'] = (\n",
        "    combined_df['ANNUAL_WAGES']\n",
        "    .astype(str)\n",
        "    .str.replace(',', '', regex=False)\n",
        "    .str.replace('$', '', regex=False)\n",
        "    .str.strip()\n",
        ")\n",
        "\n",
        "combined_df['ANNUAL_WAGES'] = pd.to_numeric(combined_df['ANNUAL_WAGES'], errors='coerce')\n",
        "\n",
        "# Dropping rows where it's still NaN\n",
        "combined_df = combined_df.dropna(subset=['ANNUAL_WAGES'])\n",
        "\n",
        "\n",
        "# Computing Q1 and Q3\n",
        "Q1 = combined_df['ANNUAL_WAGES'].quantile(0.25)\n",
        "Q3 = combined_df['ANNUAL_WAGES'].quantile(0.75)\n",
        "\n",
        "# IQR computations\n",
        "IQR = Q3 - Q1\n",
        "lower_bound = Q1 - 1.5 * IQR\n",
        "upper_bound = Q3 + 1.5 * IQR\n",
        "\n",
        "# Removing outliers\n",
        "combined_df_no_outliers = combined_df[\n",
        "    (combined_df['ANNUAL_WAGES'] >= lower_bound) &\n",
        "    (combined_df['ANNUAL_WAGES'] <= upper_bound)\n",
        "]"
      ]
    },
    {
      "cell_type": "code",
      "execution_count": null,
      "metadata": {
        "id": "KqM8sUBTPJHC"
      },
      "outputs": [],
      "source": [
        "combined_df_no_outliers.to_csv('combined_h1b.csv',index=False)"
      ]
    }
  ],
  "metadata": {
    "accelerator": "TPU",
    "colab": {
      "gpuType": "V28",
      "machine_shape": "hm",
      "provenance": []
    },
    "kernelspec": {
      "display_name": "Python 3",
      "name": "python3"
    },
    "language_info": {
      "name": "python"
    }
  },
  "nbformat": 4,
  "nbformat_minor": 0
}